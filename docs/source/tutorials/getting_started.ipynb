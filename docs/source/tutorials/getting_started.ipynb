{
 "cells": [
  {
   "cell_type": "markdown",
   "metadata": {},
   "source": [
    "# Getting started\n",
    "This notebook illustrates the basic usage of Vis4D. We will visualize a COCO image with detections from Faster RCNN.\n",
    "\n",
    "First, import the necessary components from the library\n"
   ]
  },
  {
   "cell_type": "code",
   "execution_count": 4,
   "metadata": {},
   "outputs": [
    {
     "ename": "ModuleNotFoundError",
     "evalue": "No module named 'vis4d.run.data.detect'",
     "output_type": "error",
     "traceback": [
      "\u001b[0;31m---------------------------------------------------------------------------\u001b[0m",
      "\u001b[0;31mModuleNotFoundError\u001b[0m                       Traceback (most recent call last)",
      "Cell \u001b[0;32mIn [4], line 3\u001b[0m\n\u001b[1;32m      1\u001b[0m \u001b[39mfrom\u001b[39;00m \u001b[39mvis4d\u001b[39;00m\u001b[39m.\u001b[39;00m\u001b[39mmodel\u001b[39;00m\u001b[39m.\u001b[39;00m\u001b[39mdetect\u001b[39;00m\u001b[39m.\u001b[39;00m\u001b[39mfaster_rcnn\u001b[39;00m \u001b[39mimport\u001b[39;00m FasterRCNN\n\u001b[0;32m----> 3\u001b[0m \u001b[39mfrom\u001b[39;00m \u001b[39mvis4d\u001b[39;00m\u001b[39m.\u001b[39;00m\u001b[39mrun\u001b[39;00m\u001b[39m.\u001b[39;00m\u001b[39mdata\u001b[39;00m\u001b[39m.\u001b[39;00m\u001b[39mdetect\u001b[39;00m \u001b[39mimport\u001b[39;00m default_test_pipeline\n\u001b[1;32m      4\u001b[0m \u001b[39mfrom\u001b[39;00m \u001b[39mvis4d\u001b[39;00m\u001b[39m.\u001b[39;00m\u001b[39mdata\u001b[39;00m\u001b[39m.\u001b[39;00m\u001b[39mdatasets\u001b[39;00m\u001b[39m.\u001b[39;00m\u001b[39mcoco\u001b[39;00m \u001b[39mimport\u001b[39;00m COCO\n\u001b[1;32m      5\u001b[0m \u001b[39mfrom\u001b[39;00m \u001b[39mvis4d\u001b[39;00m\u001b[39m.\u001b[39;00m\u001b[39mdata\u001b[39;00m\u001b[39m.\u001b[39;00m\u001b[39mconst\u001b[39;00m \u001b[39mimport\u001b[39;00m CommonKeys\n",
      "\u001b[0;31mModuleNotFoundError\u001b[0m: No module named 'vis4d.run.data.detect'"
     ]
    }
   ],
   "source": [
    "\n",
    "from vis4d.model.detect.faster_rcnn import FasterRCNN\n",
    "\n",
    "from vis4d.run.data.detect import default_test_pipeline\n",
    "from vis4d.data.datasets.coco import COCO\n",
    "from vis4d.data.const import CommonKeys\n",
    "from vis4d.vis.functional import imshow_bboxes\n",
    "import os\n",
    "\n",
    "os.chdir(\"/home/tobfischer/PycharmProjects/vist/dev\")\n"
   ]
  },
  {
   "cell_type": "markdown",
   "metadata": {},
   "source": [
    "Now, let's create the dataset and fetch the image from it."
   ]
  },
  {
   "cell_type": "code",
   "execution_count": null,
   "metadata": {},
   "outputs": [
    {
     "name": "stderr",
     "output_type": "stream",
     "text": [
      "Loading COCODataset(root=tests/test_data/coco_test/, split=train, use_pascal_voc_cats=False) takes 0.00 seconds.\n"
     ]
    }
   ],
   "source": [
    "\n",
    "dataset = COCO(\"tests/test_data/coco_test/\", split=\"train\")\n",
    "test_dataloader = default_test_pipeline(dataset, 1, 1, (800, 1333))[0]\n",
    "batch = next(iter(test_dataloader))\n",
    "inputs, images_hw = (\n",
    "    batch[CommonKeys.images],\n",
    "    batch[CommonKeys.input_hw],\n",
    ")"
   ]
  },
  {
   "cell_type": "markdown",
   "metadata": {},
   "source": [
    "Next, we can initialize and run the model on it."
   ]
  },
  {
   "cell_type": "code",
   "execution_count": null,
   "metadata": {},
   "outputs": [
    {
     "name": "stderr",
     "output_type": "stream",
     "text": [
      "/itet-stor/tobfischer/net_scratch/conda_envs/vis4d-dev/lib/python3.10/site-packages/torchvision/models/_utils.py:208: UserWarning: The parameter 'pretrained' is deprecated since 0.13 and may be removed in the future, please use 'weights' instead.\n",
      "  warnings.warn(\n",
      "/itet-stor/tobfischer/net_scratch/conda_envs/vis4d-dev/lib/python3.10/site-packages/torchvision/models/_utils.py:223: UserWarning: Arguments other than a weight enum or `None` for 'weights' are deprecated since 0.13 and may be removed in the future. The current behavior is equivalent to passing `weights=ResNet50_Weights.IMAGENET1K_V1`. You can also use `weights=ResNet50_Weights.DEFAULT` to get the most up-to-date weights.\n",
      "  warnings.warn(msg)\n"
     ]
    },
    {
     "name": "stdout",
     "output_type": "stream",
     "text": [
      "load checkpoint from http path: https://download.openmmlab.com/mmdetection/v2.0/faster_rcnn/faster_rcnn_r50_fpn_1x_coco/faster_rcnn_r50_fpn_1x_coco_20200130-047c8118.pth\n"
     ]
    }
   ],
   "source": [
    "\n",
    "faster_rcnn = FasterRCNN(num_classes=80, weights=\"mmdet\")\n",
    "\n",
    "faster_rcnn.eval()\n",
    "dets = faster_rcnn(inputs, images_hw, original_hw=images_hw)"
   ]
  },
  {
   "cell_type": "markdown",
   "metadata": {},
   "source": [
    "Finally, let's visualize the result."
   ]
  },
  {
   "cell_type": "code",
   "execution_count": null,
   "metadata": {},
   "outputs": [
    {
     "ename": "NameError",
     "evalue": "name 'inputs' is not defined",
     "output_type": "error",
     "traceback": [
      "\u001b[0;31m---------------------------------------------------------------------------\u001b[0m",
      "\u001b[0;31mNameError\u001b[0m                                 Traceback (most recent call last)",
      "Cell \u001b[0;32mIn [3], line 1\u001b[0m\n\u001b[0;32m----> 1\u001b[0m \u001b[39mprint\u001b[39m(inputs[\u001b[39m0\u001b[39m]\u001b[39m.\u001b[39mshape, dets[\u001b[39m\"\u001b[39m\u001b[39mboxes2d\u001b[39m\u001b[39m\"\u001b[39m][\u001b[39m0\u001b[39m]\u001b[39m.\u001b[39mshape)\n\u001b[1;32m      2\u001b[0m imshow_bboxes(inputs[\u001b[39m0\u001b[39m], dets[\u001b[39m\"\u001b[39m\u001b[39mboxes2d\u001b[39m\u001b[39m\"\u001b[39m][\u001b[39m0\u001b[39m], dets[\u001b[39m\"\u001b[39m\u001b[39mboxes2d_scores\u001b[39m\u001b[39m\"\u001b[39m][\u001b[39m0\u001b[39m], dets[\u001b[39m\"\u001b[39m\u001b[39mboxes2d_classes\u001b[39m\u001b[39m\"\u001b[39m][\u001b[39m0\u001b[39m])\n",
      "\u001b[0;31mNameError\u001b[0m: name 'inputs' is not defined"
     ]
    }
   ],
   "source": [
    "print(inputs[0].shape, dets[\"boxes2d\"][0].shape)\n",
    "imshow_bboxes(inputs[0], dets[\"boxes2d\"][0], dets[\"boxes2d_scores\"][0], dets[\"boxes2d_classes\"][0])"
   ]
  }
 ],
 "metadata": {
  "kernelspec": {
   "display_name": "Python 3.10.8 ('vis4d-dev')",
   "language": "python",
   "name": "python3"
  },
  "language_info": {
   "codemirror_mode": {
    "name": "ipython",
    "version": 3
   },
   "file_extension": ".py",
   "mimetype": "text/x-python",
   "name": "python",
   "nbconvert_exporter": "python",
   "pygments_lexer": "ipython3",
   "version": "3.10.8"
  },
  "orig_nbformat": 4,
  "vscode": {
   "interpreter": {
    "hash": "493a28f476a783d7b2a9d9b1c7c6a124417e250d1a603c3e37d189d1e159ab15"
   }
  }
 },
 "nbformat": 4,
 "nbformat_minor": 2
}
